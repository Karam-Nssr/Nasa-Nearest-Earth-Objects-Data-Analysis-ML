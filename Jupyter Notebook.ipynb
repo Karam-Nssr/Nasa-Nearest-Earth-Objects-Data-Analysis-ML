{
 "cells": [
  {
   "cell_type": "code",
   "execution_count": 1,
   "metadata": {},
   "outputs": [],
   "source": [
    "import pandas as pd\n",
    "import numpy as np\n",
    "import seaborn as sns\n",
    "import matplotlib.pyplot as plt"
   ]
  },
  {
   "cell_type": "code",
   "execution_count": 2,
   "metadata": {},
   "outputs": [],
   "source": [
    "df=pd.read_csv(r\"C:\\Users\\المجد\\Desktop\\karam\\Nasa's Data Project\\nearest-earth-objects(1910-2024).csv\")"
   ]
  },
  {
   "cell_type": "code",
   "execution_count": 3,
   "metadata": {},
   "outputs": [
    {
     "data": {
      "text/html": [
       "<div>\n",
       "<style scoped>\n",
       "    .dataframe tbody tr th:only-of-type {\n",
       "        vertical-align: middle;\n",
       "    }\n",
       "\n",
       "    .dataframe tbody tr th {\n",
       "        vertical-align: top;\n",
       "    }\n",
       "\n",
       "    .dataframe thead th {\n",
       "        text-align: right;\n",
       "    }\n",
       "</style>\n",
       "<table border=\"1\" class=\"dataframe\">\n",
       "  <thead>\n",
       "    <tr style=\"text-align: right;\">\n",
       "      <th></th>\n",
       "      <th>neo_id</th>\n",
       "      <th>name</th>\n",
       "      <th>absolute_magnitude</th>\n",
       "      <th>estimated_diameter_min</th>\n",
       "      <th>estimated_diameter_max</th>\n",
       "      <th>orbiting_body</th>\n",
       "      <th>relative_velocity</th>\n",
       "      <th>miss_distance</th>\n",
       "      <th>is_hazardous</th>\n",
       "    </tr>\n",
       "  </thead>\n",
       "  <tbody>\n",
       "    <tr>\n",
       "      <th>0</th>\n",
       "      <td>2162117</td>\n",
       "      <td>162117 (1998 SD15)</td>\n",
       "      <td>19.140</td>\n",
       "      <td>0.394962</td>\n",
       "      <td>0.883161</td>\n",
       "      <td>Earth</td>\n",
       "      <td>71745.401048</td>\n",
       "      <td>5.814362e+07</td>\n",
       "      <td>False</td>\n",
       "    </tr>\n",
       "    <tr>\n",
       "      <th>1</th>\n",
       "      <td>2349507</td>\n",
       "      <td>349507 (2008 QY)</td>\n",
       "      <td>18.500</td>\n",
       "      <td>0.530341</td>\n",
       "      <td>1.185878</td>\n",
       "      <td>Earth</td>\n",
       "      <td>109949.757148</td>\n",
       "      <td>5.580105e+07</td>\n",
       "      <td>True</td>\n",
       "    </tr>\n",
       "    <tr>\n",
       "      <th>2</th>\n",
       "      <td>2455415</td>\n",
       "      <td>455415 (2003 GA)</td>\n",
       "      <td>21.450</td>\n",
       "      <td>0.136319</td>\n",
       "      <td>0.304818</td>\n",
       "      <td>Earth</td>\n",
       "      <td>24865.506798</td>\n",
       "      <td>6.720689e+07</td>\n",
       "      <td>False</td>\n",
       "    </tr>\n",
       "    <tr>\n",
       "      <th>3</th>\n",
       "      <td>3132126</td>\n",
       "      <td>(2002 PB)</td>\n",
       "      <td>20.630</td>\n",
       "      <td>0.198863</td>\n",
       "      <td>0.444672</td>\n",
       "      <td>Earth</td>\n",
       "      <td>78890.076805</td>\n",
       "      <td>3.039644e+07</td>\n",
       "      <td>False</td>\n",
       "    </tr>\n",
       "    <tr>\n",
       "      <th>4</th>\n",
       "      <td>3557844</td>\n",
       "      <td>(2011 DW)</td>\n",
       "      <td>22.700</td>\n",
       "      <td>0.076658</td>\n",
       "      <td>0.171412</td>\n",
       "      <td>Earth</td>\n",
       "      <td>56036.519484</td>\n",
       "      <td>6.311863e+07</td>\n",
       "      <td>False</td>\n",
       "    </tr>\n",
       "    <tr>\n",
       "      <th>...</th>\n",
       "      <td>...</td>\n",
       "      <td>...</td>\n",
       "      <td>...</td>\n",
       "      <td>...</td>\n",
       "      <td>...</td>\n",
       "      <td>...</td>\n",
       "      <td>...</td>\n",
       "      <td>...</td>\n",
       "      <td>...</td>\n",
       "    </tr>\n",
       "    <tr>\n",
       "      <th>338194</th>\n",
       "      <td>54403809</td>\n",
       "      <td>(2023 VS4)</td>\n",
       "      <td>28.580</td>\n",
       "      <td>0.005112</td>\n",
       "      <td>0.011430</td>\n",
       "      <td>Earth</td>\n",
       "      <td>56646.985988</td>\n",
       "      <td>6.406548e+07</td>\n",
       "      <td>False</td>\n",
       "    </tr>\n",
       "    <tr>\n",
       "      <th>338195</th>\n",
       "      <td>54415298</td>\n",
       "      <td>(2023 XW5)</td>\n",
       "      <td>28.690</td>\n",
       "      <td>0.004859</td>\n",
       "      <td>0.010865</td>\n",
       "      <td>Earth</td>\n",
       "      <td>21130.768947</td>\n",
       "      <td>2.948883e+07</td>\n",
       "      <td>False</td>\n",
       "    </tr>\n",
       "    <tr>\n",
       "      <th>338196</th>\n",
       "      <td>54454871</td>\n",
       "      <td>(2024 KJ7)</td>\n",
       "      <td>21.919</td>\n",
       "      <td>0.109839</td>\n",
       "      <td>0.245607</td>\n",
       "      <td>Earth</td>\n",
       "      <td>11832.041031</td>\n",
       "      <td>5.346078e+07</td>\n",
       "      <td>False</td>\n",
       "    </tr>\n",
       "    <tr>\n",
       "      <th>338197</th>\n",
       "      <td>54456245</td>\n",
       "      <td>(2024 NE)</td>\n",
       "      <td>23.887</td>\n",
       "      <td>0.044377</td>\n",
       "      <td>0.099229</td>\n",
       "      <td>Earth</td>\n",
       "      <td>56198.382733</td>\n",
       "      <td>5.184742e+06</td>\n",
       "      <td>False</td>\n",
       "    </tr>\n",
       "    <tr>\n",
       "      <th>338198</th>\n",
       "      <td>54460573</td>\n",
       "      <td>(2024 NH3)</td>\n",
       "      <td>22.951</td>\n",
       "      <td>0.068290</td>\n",
       "      <td>0.152700</td>\n",
       "      <td>Earth</td>\n",
       "      <td>42060.357830</td>\n",
       "      <td>7.126682e+06</td>\n",
       "      <td>False</td>\n",
       "    </tr>\n",
       "  </tbody>\n",
       "</table>\n",
       "<p>338199 rows × 9 columns</p>\n",
       "</div>"
      ],
      "text/plain": [
       "          neo_id                name  absolute_magnitude  \\\n",
       "0        2162117  162117 (1998 SD15)              19.140   \n",
       "1        2349507    349507 (2008 QY)              18.500   \n",
       "2        2455415    455415 (2003 GA)              21.450   \n",
       "3        3132126           (2002 PB)              20.630   \n",
       "4        3557844           (2011 DW)              22.700   \n",
       "...          ...                 ...                 ...   \n",
       "338194  54403809          (2023 VS4)              28.580   \n",
       "338195  54415298          (2023 XW5)              28.690   \n",
       "338196  54454871          (2024 KJ7)              21.919   \n",
       "338197  54456245           (2024 NE)              23.887   \n",
       "338198  54460573          (2024 NH3)              22.951   \n",
       "\n",
       "        estimated_diameter_min  estimated_diameter_max orbiting_body  \\\n",
       "0                     0.394962                0.883161         Earth   \n",
       "1                     0.530341                1.185878         Earth   \n",
       "2                     0.136319                0.304818         Earth   \n",
       "3                     0.198863                0.444672         Earth   \n",
       "4                     0.076658                0.171412         Earth   \n",
       "...                        ...                     ...           ...   \n",
       "338194                0.005112                0.011430         Earth   \n",
       "338195                0.004859                0.010865         Earth   \n",
       "338196                0.109839                0.245607         Earth   \n",
       "338197                0.044377                0.099229         Earth   \n",
       "338198                0.068290                0.152700         Earth   \n",
       "\n",
       "        relative_velocity  miss_distance  is_hazardous  \n",
       "0            71745.401048   5.814362e+07         False  \n",
       "1           109949.757148   5.580105e+07          True  \n",
       "2            24865.506798   6.720689e+07         False  \n",
       "3            78890.076805   3.039644e+07         False  \n",
       "4            56036.519484   6.311863e+07         False  \n",
       "...                   ...            ...           ...  \n",
       "338194       56646.985988   6.406548e+07         False  \n",
       "338195       21130.768947   2.948883e+07         False  \n",
       "338196       11832.041031   5.346078e+07         False  \n",
       "338197       56198.382733   5.184742e+06         False  \n",
       "338198       42060.357830   7.126682e+06         False  \n",
       "\n",
       "[338199 rows x 9 columns]"
      ]
     },
     "execution_count": 3,
     "metadata": {},
     "output_type": "execute_result"
    }
   ],
   "source": [
    "df"
   ]
  },
  {
   "cell_type": "markdown",
   "metadata": {},
   "source": [
    "# Issues:\n",
    "### some missing values.\n",
    "### some duplicated names with the same data but different id."
   ]
  },
  {
   "cell_type": "code",
   "execution_count": 4,
   "metadata": {},
   "outputs": [
    {
     "data": {
      "text/plain": [
       "neo_id                     0\n",
       "name                       0\n",
       "absolute_magnitude        28\n",
       "estimated_diameter_min    28\n",
       "estimated_diameter_max    28\n",
       "orbiting_body              0\n",
       "relative_velocity          0\n",
       "miss_distance              0\n",
       "is_hazardous               0\n",
       "dtype: int64"
      ]
     },
     "execution_count": 4,
     "metadata": {},
     "output_type": "execute_result"
    }
   ],
   "source": [
    "df.isnull().sum()"
   ]
  },
  {
   "cell_type": "code",
   "execution_count": 5,
   "metadata": {},
   "outputs": [
    {
     "data": {
      "text/html": [
       "<div>\n",
       "<style scoped>\n",
       "    .dataframe tbody tr th:only-of-type {\n",
       "        vertical-align: middle;\n",
       "    }\n",
       "\n",
       "    .dataframe tbody tr th {\n",
       "        vertical-align: top;\n",
       "    }\n",
       "\n",
       "    .dataframe thead th {\n",
       "        text-align: right;\n",
       "    }\n",
       "</style>\n",
       "<table border=\"1\" class=\"dataframe\">\n",
       "  <thead>\n",
       "    <tr style=\"text-align: right;\">\n",
       "      <th></th>\n",
       "      <th>neo_id</th>\n",
       "      <th>absolute_magnitude</th>\n",
       "      <th>estimated_diameter_min</th>\n",
       "      <th>estimated_diameter_max</th>\n",
       "      <th>relative_velocity</th>\n",
       "      <th>miss_distance</th>\n",
       "    </tr>\n",
       "  </thead>\n",
       "  <tbody>\n",
       "    <tr>\n",
       "      <th>count</th>\n",
       "      <td>3.381990e+05</td>\n",
       "      <td>338171.000000</td>\n",
       "      <td>338171.000000</td>\n",
       "      <td>338171.000000</td>\n",
       "      <td>338199.000000</td>\n",
       "      <td>3.381990e+05</td>\n",
       "    </tr>\n",
       "    <tr>\n",
       "      <th>mean</th>\n",
       "      <td>1.759939e+07</td>\n",
       "      <td>22.932525</td>\n",
       "      <td>0.157812</td>\n",
       "      <td>0.352878</td>\n",
       "      <td>51060.662908</td>\n",
       "      <td>4.153535e+07</td>\n",
       "    </tr>\n",
       "    <tr>\n",
       "      <th>std</th>\n",
       "      <td>2.287225e+07</td>\n",
       "      <td>2.911216</td>\n",
       "      <td>0.313885</td>\n",
       "      <td>0.701869</td>\n",
       "      <td>26399.238435</td>\n",
       "      <td>2.077399e+07</td>\n",
       "    </tr>\n",
       "    <tr>\n",
       "      <th>min</th>\n",
       "      <td>2.000433e+06</td>\n",
       "      <td>9.250000</td>\n",
       "      <td>0.000511</td>\n",
       "      <td>0.001143</td>\n",
       "      <td>203.346433</td>\n",
       "      <td>6.745533e+03</td>\n",
       "    </tr>\n",
       "    <tr>\n",
       "      <th>25%</th>\n",
       "      <td>3.373980e+06</td>\n",
       "      <td>20.740000</td>\n",
       "      <td>0.025384</td>\n",
       "      <td>0.056760</td>\n",
       "      <td>30712.031471</td>\n",
       "      <td>2.494540e+07</td>\n",
       "    </tr>\n",
       "    <tr>\n",
       "      <th>50%</th>\n",
       "      <td>3.742127e+06</td>\n",
       "      <td>22.800000</td>\n",
       "      <td>0.073207</td>\n",
       "      <td>0.163697</td>\n",
       "      <td>47560.465474</td>\n",
       "      <td>4.332674e+07</td>\n",
       "    </tr>\n",
       "    <tr>\n",
       "      <th>75%</th>\n",
       "      <td>5.405374e+07</td>\n",
       "      <td>25.100000</td>\n",
       "      <td>0.189041</td>\n",
       "      <td>0.422708</td>\n",
       "      <td>66673.820614</td>\n",
       "      <td>5.933961e+07</td>\n",
       "    </tr>\n",
       "    <tr>\n",
       "      <th>max</th>\n",
       "      <td>5.446281e+07</td>\n",
       "      <td>33.580000</td>\n",
       "      <td>37.545248</td>\n",
       "      <td>83.953727</td>\n",
       "      <td>291781.106613</td>\n",
       "      <td>7.479865e+07</td>\n",
       "    </tr>\n",
       "  </tbody>\n",
       "</table>\n",
       "</div>"
      ],
      "text/plain": [
       "             neo_id  absolute_magnitude  estimated_diameter_min  \\\n",
       "count  3.381990e+05       338171.000000           338171.000000   \n",
       "mean   1.759939e+07           22.932525                0.157812   \n",
       "std    2.287225e+07            2.911216                0.313885   \n",
       "min    2.000433e+06            9.250000                0.000511   \n",
       "25%    3.373980e+06           20.740000                0.025384   \n",
       "50%    3.742127e+06           22.800000                0.073207   \n",
       "75%    5.405374e+07           25.100000                0.189041   \n",
       "max    5.446281e+07           33.580000               37.545248   \n",
       "\n",
       "       estimated_diameter_max  relative_velocity  miss_distance  \n",
       "count           338171.000000      338199.000000   3.381990e+05  \n",
       "mean                 0.352878       51060.662908   4.153535e+07  \n",
       "std                  0.701869       26399.238435   2.077399e+07  \n",
       "min                  0.001143         203.346433   6.745533e+03  \n",
       "25%                  0.056760       30712.031471   2.494540e+07  \n",
       "50%                  0.163697       47560.465474   4.332674e+07  \n",
       "75%                  0.422708       66673.820614   5.933961e+07  \n",
       "max                 83.953727      291781.106613   7.479865e+07  "
      ]
     },
     "execution_count": 5,
     "metadata": {},
     "output_type": "execute_result"
    }
   ],
   "source": [
    "df.describe()"
   ]
  },
  {
   "cell_type": "code",
   "execution_count": 6,
   "metadata": {},
   "outputs": [
    {
     "data": {
      "text/html": [
       "<div>\n",
       "<style scoped>\n",
       "    .dataframe tbody tr th:only-of-type {\n",
       "        vertical-align: middle;\n",
       "    }\n",
       "\n",
       "    .dataframe tbody tr th {\n",
       "        vertical-align: top;\n",
       "    }\n",
       "\n",
       "    .dataframe thead th {\n",
       "        text-align: right;\n",
       "    }\n",
       "</style>\n",
       "<table border=\"1\" class=\"dataframe\">\n",
       "  <thead>\n",
       "    <tr style=\"text-align: right;\">\n",
       "      <th></th>\n",
       "      <th>name</th>\n",
       "      <th>orbiting_body</th>\n",
       "    </tr>\n",
       "  </thead>\n",
       "  <tbody>\n",
       "    <tr>\n",
       "      <th>count</th>\n",
       "      <td>338199</td>\n",
       "      <td>338199</td>\n",
       "    </tr>\n",
       "    <tr>\n",
       "      <th>unique</th>\n",
       "      <td>33514</td>\n",
       "      <td>1</td>\n",
       "    </tr>\n",
       "    <tr>\n",
       "      <th>top</th>\n",
       "      <td>277810 (2006 FV35)</td>\n",
       "      <td>Earth</td>\n",
       "    </tr>\n",
       "    <tr>\n",
       "      <th>freq</th>\n",
       "      <td>211</td>\n",
       "      <td>338199</td>\n",
       "    </tr>\n",
       "  </tbody>\n",
       "</table>\n",
       "</div>"
      ],
      "text/plain": [
       "                      name orbiting_body\n",
       "count               338199        338199\n",
       "unique               33514             1\n",
       "top     277810 (2006 FV35)         Earth\n",
       "freq                   211        338199"
      ]
     },
     "execution_count": 6,
     "metadata": {},
     "output_type": "execute_result"
    }
   ],
   "source": [
    "df.describe(include='object')"
   ]
  },
  {
   "cell_type": "code",
   "execution_count": 7,
   "metadata": {},
   "outputs": [
    {
     "data": {
      "text/html": [
       "<div>\n",
       "<style scoped>\n",
       "    .dataframe tbody tr th:only-of-type {\n",
       "        vertical-align: middle;\n",
       "    }\n",
       "\n",
       "    .dataframe tbody tr th {\n",
       "        vertical-align: top;\n",
       "    }\n",
       "\n",
       "    .dataframe thead th {\n",
       "        text-align: right;\n",
       "    }\n",
       "</style>\n",
       "<table border=\"1\" class=\"dataframe\">\n",
       "  <thead>\n",
       "    <tr style=\"text-align: right;\">\n",
       "      <th></th>\n",
       "      <th>neo_id</th>\n",
       "      <th>name</th>\n",
       "      <th>absolute_magnitude</th>\n",
       "      <th>estimated_diameter_min</th>\n",
       "      <th>estimated_diameter_max</th>\n",
       "      <th>orbiting_body</th>\n",
       "      <th>relative_velocity</th>\n",
       "      <th>miss_distance</th>\n",
       "      <th>is_hazardous</th>\n",
       "    </tr>\n",
       "  </thead>\n",
       "  <tbody>\n",
       "    <tr>\n",
       "      <th>0</th>\n",
       "      <td>2162117</td>\n",
       "      <td>162117 (1998 SD15)</td>\n",
       "      <td>19.140</td>\n",
       "      <td>0.394962</td>\n",
       "      <td>0.883161</td>\n",
       "      <td>Earth</td>\n",
       "      <td>71745.401048</td>\n",
       "      <td>5.814362e+07</td>\n",
       "      <td>False</td>\n",
       "    </tr>\n",
       "    <tr>\n",
       "      <th>1</th>\n",
       "      <td>2349507</td>\n",
       "      <td>349507 (2008 QY)</td>\n",
       "      <td>18.500</td>\n",
       "      <td>0.530341</td>\n",
       "      <td>1.185878</td>\n",
       "      <td>Earth</td>\n",
       "      <td>109949.757148</td>\n",
       "      <td>5.580105e+07</td>\n",
       "      <td>True</td>\n",
       "    </tr>\n",
       "    <tr>\n",
       "      <th>2</th>\n",
       "      <td>2455415</td>\n",
       "      <td>455415 (2003 GA)</td>\n",
       "      <td>21.450</td>\n",
       "      <td>0.136319</td>\n",
       "      <td>0.304818</td>\n",
       "      <td>Earth</td>\n",
       "      <td>24865.506798</td>\n",
       "      <td>6.720689e+07</td>\n",
       "      <td>False</td>\n",
       "    </tr>\n",
       "    <tr>\n",
       "      <th>3</th>\n",
       "      <td>3132126</td>\n",
       "      <td>(2002 PB)</td>\n",
       "      <td>20.630</td>\n",
       "      <td>0.198863</td>\n",
       "      <td>0.444672</td>\n",
       "      <td>Earth</td>\n",
       "      <td>78890.076805</td>\n",
       "      <td>3.039644e+07</td>\n",
       "      <td>False</td>\n",
       "    </tr>\n",
       "    <tr>\n",
       "      <th>4</th>\n",
       "      <td>3557844</td>\n",
       "      <td>(2011 DW)</td>\n",
       "      <td>22.700</td>\n",
       "      <td>0.076658</td>\n",
       "      <td>0.171412</td>\n",
       "      <td>Earth</td>\n",
       "      <td>56036.519484</td>\n",
       "      <td>6.311863e+07</td>\n",
       "      <td>False</td>\n",
       "    </tr>\n",
       "    <tr>\n",
       "      <th>...</th>\n",
       "      <td>...</td>\n",
       "      <td>...</td>\n",
       "      <td>...</td>\n",
       "      <td>...</td>\n",
       "      <td>...</td>\n",
       "      <td>...</td>\n",
       "      <td>...</td>\n",
       "      <td>...</td>\n",
       "      <td>...</td>\n",
       "    </tr>\n",
       "    <tr>\n",
       "      <th>338166</th>\n",
       "      <td>54455885</td>\n",
       "      <td>(2024 NA)</td>\n",
       "      <td>24.866</td>\n",
       "      <td>0.028272</td>\n",
       "      <td>0.063218</td>\n",
       "      <td>Earth</td>\n",
       "      <td>38881.858752</td>\n",
       "      <td>1.640905e+06</td>\n",
       "      <td>False</td>\n",
       "    </tr>\n",
       "    <tr>\n",
       "      <th>338167</th>\n",
       "      <td>54458505</td>\n",
       "      <td>(2024 NW1)</td>\n",
       "      <td>26.356</td>\n",
       "      <td>0.014235</td>\n",
       "      <td>0.031830</td>\n",
       "      <td>Earth</td>\n",
       "      <td>21999.325933</td>\n",
       "      <td>9.886132e+06</td>\n",
       "      <td>False</td>\n",
       "    </tr>\n",
       "    <tr>\n",
       "      <th>338168</th>\n",
       "      <td>54460107</td>\n",
       "      <td>(2024 ND3)</td>\n",
       "      <td>23.781</td>\n",
       "      <td>0.046597</td>\n",
       "      <td>0.104193</td>\n",
       "      <td>Earth</td>\n",
       "      <td>16846.868427</td>\n",
       "      <td>3.350483e+07</td>\n",
       "      <td>False</td>\n",
       "    </tr>\n",
       "    <tr>\n",
       "      <th>338186</th>\n",
       "      <td>54459238</td>\n",
       "      <td>(2024 NQ2)</td>\n",
       "      <td>23.218</td>\n",
       "      <td>0.060389</td>\n",
       "      <td>0.135033</td>\n",
       "      <td>Earth</td>\n",
       "      <td>23763.806822</td>\n",
       "      <td>3.590212e+07</td>\n",
       "      <td>False</td>\n",
       "    </tr>\n",
       "    <tr>\n",
       "      <th>338197</th>\n",
       "      <td>54456245</td>\n",
       "      <td>(2024 NE)</td>\n",
       "      <td>23.887</td>\n",
       "      <td>0.044377</td>\n",
       "      <td>0.099229</td>\n",
       "      <td>Earth</td>\n",
       "      <td>56198.382733</td>\n",
       "      <td>5.184742e+06</td>\n",
       "      <td>False</td>\n",
       "    </tr>\n",
       "  </tbody>\n",
       "</table>\n",
       "<p>33514 rows × 9 columns</p>\n",
       "</div>"
      ],
      "text/plain": [
       "          neo_id                name  absolute_magnitude  \\\n",
       "0        2162117  162117 (1998 SD15)              19.140   \n",
       "1        2349507    349507 (2008 QY)              18.500   \n",
       "2        2455415    455415 (2003 GA)              21.450   \n",
       "3        3132126           (2002 PB)              20.630   \n",
       "4        3557844           (2011 DW)              22.700   \n",
       "...          ...                 ...                 ...   \n",
       "338166  54455885           (2024 NA)              24.866   \n",
       "338167  54458505          (2024 NW1)              26.356   \n",
       "338168  54460107          (2024 ND3)              23.781   \n",
       "338186  54459238          (2024 NQ2)              23.218   \n",
       "338197  54456245           (2024 NE)              23.887   \n",
       "\n",
       "        estimated_diameter_min  estimated_diameter_max orbiting_body  \\\n",
       "0                     0.394962                0.883161         Earth   \n",
       "1                     0.530341                1.185878         Earth   \n",
       "2                     0.136319                0.304818         Earth   \n",
       "3                     0.198863                0.444672         Earth   \n",
       "4                     0.076658                0.171412         Earth   \n",
       "...                        ...                     ...           ...   \n",
       "338166                0.028272                0.063218         Earth   \n",
       "338167                0.014235                0.031830         Earth   \n",
       "338168                0.046597                0.104193         Earth   \n",
       "338186                0.060389                0.135033         Earth   \n",
       "338197                0.044377                0.099229         Earth   \n",
       "\n",
       "        relative_velocity  miss_distance  is_hazardous  \n",
       "0            71745.401048   5.814362e+07         False  \n",
       "1           109949.757148   5.580105e+07          True  \n",
       "2            24865.506798   6.720689e+07         False  \n",
       "3            78890.076805   3.039644e+07         False  \n",
       "4            56036.519484   6.311863e+07         False  \n",
       "...                   ...            ...           ...  \n",
       "338166       38881.858752   1.640905e+06         False  \n",
       "338167       21999.325933   9.886132e+06         False  \n",
       "338168       16846.868427   3.350483e+07         False  \n",
       "338186       23763.806822   3.590212e+07         False  \n",
       "338197       56198.382733   5.184742e+06         False  \n",
       "\n",
       "[33514 rows x 9 columns]"
      ]
     },
     "execution_count": 7,
     "metadata": {},
     "output_type": "execute_result"
    }
   ],
   "source": [
    "df = df.drop_duplicates(subset=['name'], keep='first')\n",
    "df"
   ]
  },
  {
   "cell_type": "code",
   "execution_count": 8,
   "metadata": {},
   "outputs": [
    {
     "data": {
      "text/plain": [
       "0"
      ]
     },
     "execution_count": 8,
     "metadata": {},
     "output_type": "execute_result"
    }
   ],
   "source": [
    "df.duplicated().sum()"
   ]
  },
  {
   "cell_type": "code",
   "execution_count": 9,
   "metadata": {},
   "outputs": [
    {
     "data": {
      "text/plain": [
       "neo_id                      int64\n",
       "name                       object\n",
       "absolute_magnitude        float64\n",
       "estimated_diameter_min    float64\n",
       "estimated_diameter_max    float64\n",
       "orbiting_body              object\n",
       "relative_velocity         float64\n",
       "miss_distance             float64\n",
       "is_hazardous                 bool\n",
       "dtype: object"
      ]
     },
     "execution_count": 9,
     "metadata": {},
     "output_type": "execute_result"
    }
   ],
   "source": [
    "df.dtypes"
   ]
  },
  {
   "cell_type": "code",
   "execution_count": 10,
   "metadata": {},
   "outputs": [
    {
     "data": {
      "text/plain": [
       "0         0.883161\n",
       "1         1.185878\n",
       "2         0.304818\n",
       "3         0.444672\n",
       "4         0.171412\n",
       "            ...   \n",
       "338166    0.063218\n",
       "338167    0.031830\n",
       "338168    0.104193\n",
       "338186    0.135033\n",
       "338197    0.099229\n",
       "Name: estimated_diameter_max, Length: 33514, dtype: float64"
      ]
     },
     "execution_count": 10,
     "metadata": {},
     "output_type": "execute_result"
    }
   ],
   "source": [
    "df['absolute_magnitude'].fillna(df['absolute_magnitude'].mean())\n",
    "df['estimated_diameter_min'].fillna(df['estimated_diameter_min'].mean())\n",
    "df['estimated_diameter_max'].fillna(df['estimated_diameter_max'].mean())\n"
   ]
  },
  {
   "cell_type": "markdown",
   "metadata": {},
   "source": [
    "# EDA\n",
    "### Which Object Has The Most absolute magnitude?"
   ]
  },
  {
   "cell_type": "code",
   "execution_count": 11,
   "metadata": {},
   "outputs": [
    {
     "data": {
      "text/html": [
       "<div>\n",
       "<style scoped>\n",
       "    .dataframe tbody tr th:only-of-type {\n",
       "        vertical-align: middle;\n",
       "    }\n",
       "\n",
       "    .dataframe tbody tr th {\n",
       "        vertical-align: top;\n",
       "    }\n",
       "\n",
       "    .dataframe thead th {\n",
       "        text-align: right;\n",
       "    }\n",
       "</style>\n",
       "<table border=\"1\" class=\"dataframe\">\n",
       "  <thead>\n",
       "    <tr style=\"text-align: right;\">\n",
       "      <th></th>\n",
       "      <th>neo_id</th>\n",
       "      <th>name</th>\n",
       "      <th>absolute_magnitude</th>\n",
       "      <th>estimated_diameter_min</th>\n",
       "      <th>estimated_diameter_max</th>\n",
       "      <th>orbiting_body</th>\n",
       "      <th>relative_velocity</th>\n",
       "      <th>miss_distance</th>\n",
       "      <th>is_hazardous</th>\n",
       "    </tr>\n",
       "  </thead>\n",
       "  <tbody>\n",
       "    <tr>\n",
       "      <th>62222</th>\n",
       "      <td>54327740</td>\n",
       "      <td>(2022 WJ1)</td>\n",
       "      <td>33.58</td>\n",
       "      <td>0.000511</td>\n",
       "      <td>0.001143</td>\n",
       "      <td>Earth</td>\n",
       "      <td>74391.102412</td>\n",
       "      <td>5.691085e+07</td>\n",
       "      <td>False</td>\n",
       "    </tr>\n",
       "  </tbody>\n",
       "</table>\n",
       "</div>"
      ],
      "text/plain": [
       "         neo_id        name  absolute_magnitude  estimated_diameter_min  \\\n",
       "62222  54327740  (2022 WJ1)               33.58                0.000511   \n",
       "\n",
       "       estimated_diameter_max orbiting_body  relative_velocity  miss_distance  \\\n",
       "62222                0.001143         Earth       74391.102412   5.691085e+07   \n",
       "\n",
       "       is_hazardous  \n",
       "62222         False  "
      ]
     },
     "execution_count": 11,
     "metadata": {},
     "output_type": "execute_result"
    }
   ],
   "source": [
    "df[df['absolute_magnitude']==df['absolute_magnitude'].max()]"
   ]
  },
  {
   "cell_type": "markdown",
   "metadata": {},
   "source": [
    "### How Many Objects Are Hazardous And How Many Are Not?"
   ]
  },
  {
   "cell_type": "code",
   "execution_count": 12,
   "metadata": {},
   "outputs": [
    {
     "data": {
      "text/plain": [
       "is_hazardous\n",
       "False    31021\n",
       "True      2493\n",
       "Name: count, dtype: int64"
      ]
     },
     "execution_count": 12,
     "metadata": {},
     "output_type": "execute_result"
    }
   ],
   "source": [
    "df['is_hazardous'].value_counts()"
   ]
  },
  {
   "cell_type": "code",
   "execution_count": 13,
   "metadata": {},
   "outputs": [
    {
     "data": {
      "image/png": "[encoded data removed]",
      "text/plain": [
       "<Figure size 640x480 with 1 Axes>"
      ]
     },
     "metadata": {},
     "output_type": "display_data"
    }
   ],
   "source": [
    "labels='Hazardous','Not Hazardous'\n",
    "sizes=[43162,295037]\n",
    "explode=(0.1,0)\n",
    "fig1,ax1 = plt.subplots()\n",
    "ax1.pie(sizes,explode=explode, labels=labels, autopct='%1.1f%%',\n",
    "shadow=True, startangle=90)\n",
    "ax1.axis('equal') \n",
    "plt.show()"
   ]
  },
  {
   "cell_type": "markdown",
   "metadata": {},
   "source": [
    "### Which Object Has The Highest Estimated Diameter Minimum?"
   ]
  },
  {
   "cell_type": "code",
   "execution_count": 14,
   "metadata": {},
   "outputs": [
    {
     "data": {
      "text/html": [
       "<div>\n",
       "<style scoped>\n",
       "    .dataframe tbody tr th:only-of-type {\n",
       "        vertical-align: middle;\n",
       "    }\n",
       "\n",
       "    .dataframe tbody tr th {\n",
       "        vertical-align: top;\n",
       "    }\n",
       "\n",
       "    .dataframe thead th {\n",
       "        text-align: right;\n",
       "    }\n",
       "</style>\n",
       "<table border=\"1\" class=\"dataframe\">\n",
       "  <thead>\n",
       "    <tr style=\"text-align: right;\">\n",
       "      <th></th>\n",
       "      <th>neo_id</th>\n",
       "      <th>name</th>\n",
       "      <th>absolute_magnitude</th>\n",
       "      <th>estimated_diameter_min</th>\n",
       "      <th>estimated_diameter_max</th>\n",
       "      <th>orbiting_body</th>\n",
       "      <th>relative_velocity</th>\n",
       "      <th>miss_distance</th>\n",
       "      <th>is_hazardous</th>\n",
       "    </tr>\n",
       "  </thead>\n",
       "  <tbody>\n",
       "    <tr>\n",
       "      <th>4206</th>\n",
       "      <td>2001036</td>\n",
       "      <td>1036 Ganymed (A924 UB)</td>\n",
       "      <td>9.25</td>\n",
       "      <td>37.545248</td>\n",
       "      <td>83.953727</td>\n",
       "      <td>Earth</td>\n",
       "      <td>61537.3258</td>\n",
       "      <td>5.705108e+07</td>\n",
       "      <td>False</td>\n",
       "    </tr>\n",
       "  </tbody>\n",
       "</table>\n",
       "</div>"
      ],
      "text/plain": [
       "       neo_id                    name  absolute_magnitude  \\\n",
       "4206  2001036  1036 Ganymed (A924 UB)                9.25   \n",
       "\n",
       "      estimated_diameter_min  estimated_diameter_max orbiting_body  \\\n",
       "4206               37.545248               83.953727         Earth   \n",
       "\n",
       "      relative_velocity  miss_distance  is_hazardous  \n",
       "4206         61537.3258   5.705108e+07         False  "
      ]
     },
     "execution_count": 14,
     "metadata": {},
     "output_type": "execute_result"
    }
   ],
   "source": [
    "df[df['estimated_diameter_min']==df['estimated_diameter_min'].max()]"
   ]
  },
  {
   "cell_type": "markdown",
   "metadata": {},
   "source": [
    "### Which Object Has The Highest Estimated Diameter Maximum?"
   ]
  },
  {
   "cell_type": "code",
   "execution_count": 15,
   "metadata": {},
   "outputs": [
    {
     "data": {
      "text/html": [
       "<div>\n",
       "<style scoped>\n",
       "    .dataframe tbody tr th:only-of-type {\n",
       "        vertical-align: middle;\n",
       "    }\n",
       "\n",
       "    .dataframe tbody tr th {\n",
       "        vertical-align: top;\n",
       "    }\n",
       "\n",
       "    .dataframe thead th {\n",
       "        text-align: right;\n",
       "    }\n",
       "</style>\n",
       "<table border=\"1\" class=\"dataframe\">\n",
       "  <thead>\n",
       "    <tr style=\"text-align: right;\">\n",
       "      <th></th>\n",
       "      <th>neo_id</th>\n",
       "      <th>name</th>\n",
       "      <th>absolute_magnitude</th>\n",
       "      <th>estimated_diameter_min</th>\n",
       "      <th>estimated_diameter_max</th>\n",
       "      <th>orbiting_body</th>\n",
       "      <th>relative_velocity</th>\n",
       "      <th>miss_distance</th>\n",
       "      <th>is_hazardous</th>\n",
       "    </tr>\n",
       "  </thead>\n",
       "  <tbody>\n",
       "    <tr>\n",
       "      <th>4206</th>\n",
       "      <td>2001036</td>\n",
       "      <td>1036 Ganymed (A924 UB)</td>\n",
       "      <td>9.25</td>\n",
       "      <td>37.545248</td>\n",
       "      <td>83.953727</td>\n",
       "      <td>Earth</td>\n",
       "      <td>61537.3258</td>\n",
       "      <td>5.705108e+07</td>\n",
       "      <td>False</td>\n",
       "    </tr>\n",
       "  </tbody>\n",
       "</table>\n",
       "</div>"
      ],
      "text/plain": [
       "       neo_id                    name  absolute_magnitude  \\\n",
       "4206  2001036  1036 Ganymed (A924 UB)                9.25   \n",
       "\n",
       "      estimated_diameter_min  estimated_diameter_max orbiting_body  \\\n",
       "4206               37.545248               83.953727         Earth   \n",
       "\n",
       "      relative_velocity  miss_distance  is_hazardous  \n",
       "4206         61537.3258   5.705108e+07         False  "
      ]
     },
     "execution_count": 15,
     "metadata": {},
     "output_type": "execute_result"
    }
   ],
   "source": [
    "df[df['estimated_diameter_max']==df['estimated_diameter_max'].max()]"
   ]
  },
  {
   "cell_type": "markdown",
   "metadata": {},
   "source": [
    "### What Is The Mean Of Estimated Diameter Maximum by Top 5 Objects?"
   ]
  },
  {
   "cell_type": "code",
   "execution_count": 16,
   "metadata": {},
   "outputs": [
    {
     "data": {
      "image/png": "[encoded data removed]",
      "text/plain": [
       "<Figure size 1000x600 with 1 Axes>"
      ]
     },
     "metadata": {},
     "output_type": "display_data"
    }
   ],
   "source": [
    "top_5_categories=df['name'].value_counts().nlargest(5).index\n",
    "df_top_5= df[df['name'].isin(top_5_categories)]\n",
    "plt.figure(figsize=(10, 6))\n",
    "mean_values=df_top_5.groupby('name')['estimated_diameter_max'].mean().reset_index()\n",
    "sns.barplot(x='name',y='estimated_diameter_max',hue='name',data=mean_values,palette='viridis',dodge=False)\n",
    "plt.title(f'Mean of Estimated Diameter Maximum by Top 5 Objects',fontsize=16)\n",
    "plt.legend([],[],frameon=False) \n",
    "plt.show()"
   ]
  },
  {
   "cell_type": "markdown",
   "metadata": {},
   "source": [
    "### Which Object Has The Highest Relative Velocity?"
   ]
  },
  {
   "cell_type": "code",
   "execution_count": 17,
   "metadata": {},
   "outputs": [
    {
     "data": {
      "text/html": [
       "<div>\n",
       "<style scoped>\n",
       "    .dataframe tbody tr th:only-of-type {\n",
       "        vertical-align: middle;\n",
       "    }\n",
       "\n",
       "    .dataframe tbody tr th {\n",
       "        vertical-align: top;\n",
       "    }\n",
       "\n",
       "    .dataframe thead th {\n",
       "        text-align: right;\n",
       "    }\n",
       "</style>\n",
       "<table border=\"1\" class=\"dataframe\">\n",
       "  <thead>\n",
       "    <tr style=\"text-align: right;\">\n",
       "      <th></th>\n",
       "      <th>neo_id</th>\n",
       "      <th>name</th>\n",
       "      <th>absolute_magnitude</th>\n",
       "      <th>estimated_diameter_min</th>\n",
       "      <th>estimated_diameter_max</th>\n",
       "      <th>orbiting_body</th>\n",
       "      <th>relative_velocity</th>\n",
       "      <th>miss_distance</th>\n",
       "      <th>is_hazardous</th>\n",
       "    </tr>\n",
       "  </thead>\n",
       "  <tbody>\n",
       "    <tr>\n",
       "      <th>11004</th>\n",
       "      <td>3989287</td>\n",
       "      <td>(2020 BZ12)</td>\n",
       "      <td>18.12</td>\n",
       "      <td>0.631764</td>\n",
       "      <td>1.412668</td>\n",
       "      <td>Earth</td>\n",
       "      <td>273704.635655</td>\n",
       "      <td>5.109239e+07</td>\n",
       "      <td>False</td>\n",
       "    </tr>\n",
       "  </tbody>\n",
       "</table>\n",
       "</div>"
      ],
      "text/plain": [
       "        neo_id         name  absolute_magnitude  estimated_diameter_min  \\\n",
       "11004  3989287  (2020 BZ12)               18.12                0.631764   \n",
       "\n",
       "       estimated_diameter_max orbiting_body  relative_velocity  miss_distance  \\\n",
       "11004                1.412668         Earth      273704.635655   5.109239e+07   \n",
       "\n",
       "       is_hazardous  \n",
       "11004         False  "
      ]
     },
     "execution_count": 17,
     "metadata": {},
     "output_type": "execute_result"
    }
   ],
   "source": [
    "df[df['relative_velocity']==df['relative_velocity'].max()]"
   ]
  },
  {
   "cell_type": "markdown",
   "metadata": {},
   "source": [
    "### What Is The Mean Of Relative Velocity by Top 5 Objects?"
   ]
  },
  {
   "cell_type": "code",
   "execution_count": 18,
   "metadata": {},
   "outputs": [
    {
     "data": {
      "image/png": "[encoded data removed]",
      "text/plain": [
       "<Figure size 1000x600 with 1 Axes>"
      ]
     },
     "metadata": {},
     "output_type": "display_data"
    }
   ],
   "source": [
    "top_5_categories=df['name'].value_counts().nlargest(5).index\n",
    "df_top_5=df[df['name'].isin(top_5_categories)]\n",
    "plt.figure(figsize=(10,6))\n",
    "mean_values=df_top_5.groupby('name')['relative_velocity'].mean().reset_index()\n",
    "sns.barplot(x='name',y='relative_velocity',hue='name',data=mean_values,palette='viridis',dodge=False)\n",
    "plt.title(f'Mean of Relative Velocity by Top 5 Objects',fontsize=16)\n",
    "plt.legend([],[],frameon=False)  \n",
    "plt.show()"
   ]
  },
  {
   "cell_type": "markdown",
   "metadata": {},
   "source": [
    "### Which Object Has The Lowest Miss Distance?"
   ]
  },
  {
   "cell_type": "code",
   "execution_count": 19,
   "metadata": {},
   "outputs": [
    {
     "data": {
      "text/html": [
       "<div>\n",
       "<style scoped>\n",
       "    .dataframe tbody tr th:only-of-type {\n",
       "        vertical-align: middle;\n",
       "    }\n",
       "\n",
       "    .dataframe tbody tr th {\n",
       "        vertical-align: top;\n",
       "    }\n",
       "\n",
       "    .dataframe thead th {\n",
       "        text-align: right;\n",
       "    }\n",
       "</style>\n",
       "<table border=\"1\" class=\"dataframe\">\n",
       "  <thead>\n",
       "    <tr style=\"text-align: right;\">\n",
       "      <th></th>\n",
       "      <th>neo_id</th>\n",
       "      <th>name</th>\n",
       "      <th>absolute_magnitude</th>\n",
       "      <th>estimated_diameter_min</th>\n",
       "      <th>estimated_diameter_max</th>\n",
       "      <th>orbiting_body</th>\n",
       "      <th>relative_velocity</th>\n",
       "      <th>miss_distance</th>\n",
       "      <th>is_hazardous</th>\n",
       "    </tr>\n",
       "  </thead>\n",
       "  <tbody>\n",
       "    <tr>\n",
       "      <th>309768</th>\n",
       "      <td>54051131</td>\n",
       "      <td>(2020 QG)</td>\n",
       "      <td>29.9</td>\n",
       "      <td>0.002783</td>\n",
       "      <td>0.006224</td>\n",
       "      <td>Earth</td>\n",
       "      <td>44391.122303</td>\n",
       "      <td>9316.925424</td>\n",
       "      <td>False</td>\n",
       "    </tr>\n",
       "  </tbody>\n",
       "</table>\n",
       "</div>"
      ],
      "text/plain": [
       "          neo_id       name  absolute_magnitude  estimated_diameter_min  \\\n",
       "309768  54051131  (2020 QG)                29.9                0.002783   \n",
       "\n",
       "        estimated_diameter_max orbiting_body  relative_velocity  \\\n",
       "309768                0.006224         Earth       44391.122303   \n",
       "\n",
       "        miss_distance  is_hazardous  \n",
       "309768    9316.925424         False  "
      ]
     },
     "execution_count": 19,
     "metadata": {},
     "output_type": "execute_result"
    }
   ],
   "source": [
    "df[df['miss_distance']==df['miss_distance'].min()]"
   ]
  },
  {
   "cell_type": "markdown",
   "metadata": {},
   "source": [
    "### What Is The Mean Of Miss Distance by Top 5 Objects?"
   ]
  },
  {
   "cell_type": "code",
   "execution_count": 20,
   "metadata": {},
   "outputs": [
    {
     "data": {
      "image/png": "[encoded data removed]",
      "text/plain": [
       "<Figure size 1000x600 with 1 Axes>"
      ]
     },
     "metadata": {},
     "output_type": "display_data"
    }
   ],
   "source": [
    "top_5_categories=df['name'].value_counts().nlargest(5).index\n",
    "df_top_5=df[df['name'].isin(top_5_categories)]\n",
    "plt.figure(figsize=(10,6))\n",
    "mean_values=df_top_5.groupby('name')['miss_distance'].mean().reset_index()\n",
    "sns.barplot(x='name',y='miss_distance',hue='name',data=mean_values,palette='viridis',dodge=False)\n",
    "plt.title(f'Mean of Miss Distance by Top 5 Objects',fontsize=16)\n",
    "plt.legend([],[],frameon=False)  \n",
    "plt.show()"
   ]
  },
  {
   "cell_type": "markdown",
   "metadata": {},
   "source": [
    "# Data Preprocessing"
   ]
  },
  {
   "cell_type": "code",
   "execution_count": 21,
   "metadata": {},
   "outputs": [],
   "source": [
    "from sklearn.model_selection import train_test_split\n",
    "from sklearn.preprocessing import StandardScaler, OneHotEncoder\n",
    "from sklearn.compose import ColumnTransformer\n",
    "from sklearn.pipeline import Pipeline\n",
    "from sklearn.impute import SimpleImputer\n",
    "from sklearn.ensemble import RandomForestClassifier\n",
    "from sklearn.metrics import balanced_accuracy_score,classification_report\n",
    "from imblearn.over_sampling import SMOTE\n",
    "from imblearn.pipeline import Pipeline as ImbPipeline\n",
    "X=df.drop(columns=['is_hazardous','neo_id','name','orbiting_body'])\n",
    "y=df['is_hazardous']\n",
    "X_train,X_test,y_train,y_test=train_test_split(X,y,test_size=0.2,random_state=42,stratify=y)\n",
    "numeric_features=['absolute_magnitude','estimated_diameter_min','estimated_diameter_max','relative_velocity','miss_distance']\n",
    "numeric_transformer=Pipeline(steps=[\n",
    "    ('imputer',SimpleImputer(strategy='median')),\n",
    "    ('scaler',StandardScaler())\n",
    "])\n",
    "preprocessor=ColumnTransformer(\n",
    "    transformers=[\n",
    "        ('num',numeric_transformer,numeric_features)\n",
    "    ])"
   ]
  },
  {
   "cell_type": "markdown",
   "metadata": {},
   "source": [
    "### Handling Imbalanced Classes using SMOTE"
   ]
  },
  {
   "cell_type": "code",
   "execution_count": 22,
   "metadata": {},
   "outputs": [],
   "source": [
    "smote=SMOTE(random_state=42)\n",
    "model=RandomForestClassifier(class_weight='balanced',random_state=42)\n",
    "clf=ImbPipeline(steps=[\n",
    "    ('preprocessor',preprocessor),\n",
    "    ('smote',smote),\n",
    "    ('classifier',model)\n",
    "])\n",
    "clf.fit(X_train,y_train)\n",
    "y_pred=clf.predict(X_test)\n"
   ]
  },
  {
   "cell_type": "markdown",
   "metadata": {},
   "source": [
    "### Model Test Result"
   ]
  },
  {
   "cell_type": "code",
   "execution_count": 23,
   "metadata": {},
   "outputs": [
    {
     "name": "stdout",
     "output_type": "stream",
     "text": [
      "Balanced Accuracy: 0.7738166532936925\n",
      "\n",
      "Classification Report:\n",
      "               precision    recall  f1-score   support\n",
      "\n",
      "       False       0.97      0.91      0.94      6204\n",
      "        True       0.36      0.64      0.46       499\n",
      "\n",
      "    accuracy                           0.89      6703\n",
      "   macro avg       0.66      0.77      0.70      6703\n",
      "weighted avg       0.92      0.89      0.90      6703\n",
      "\n"
     ]
    }
   ],
   "source": [
    "print(\"Balanced Accuracy:\",balanced_accuracy_score(y_test, y_pred))\n",
    "print(\"\\nClassification Report:\\n\",classification_report(y_test, y_pred))"
   ]
  },
  {
   "cell_type": "code",
   "execution_count": 24,
   "metadata": {},
   "outputs": [],
   "source": [
    "rf_model=clf.named_steps['classifier']\n",
    "importances=rf_model.feature_importances_\n",
    "feature_names=clf.named_steps['preprocessor'].get_feature_names_out()\n"
   ]
  },
  {
   "cell_type": "markdown",
   "metadata": {},
   "source": [
    "### Features Importance:"
   ]
  },
  {
   "cell_type": "code",
   "execution_count": 25,
   "metadata": {},
   "outputs": [
    {
     "name": "stdout",
     "output_type": "stream",
     "text": [
      "\n",
      "Feature Importances:\n",
      "                        Feature  Importance\n",
      "2  num__estimated_diameter_max    0.266907\n",
      "1  num__estimated_diameter_min    0.252538\n",
      "0      num__absolute_magnitude    0.207245\n",
      "3       num__relative_velocity    0.159016\n",
      "4           num__miss_distance    0.114294\n"
     ]
    }
   ],
   "source": [
    "feature_importance_df=pd.DataFrame({'Feature':feature_names,'Importance':importances})\n",
    "print(\"\\nFeature Importances:\\n\",feature_importance_df.sort_values(by='Importance',ascending=False))"
   ]
  }
 ],
 "metadata": {
  "kernelspec": {
   "display_name": "Python 3",
   "language": "python",
   "name": "python3"
  },
  "language_info": {
   "codemirror_mode": {
    "name": "ipython",
    "version": 3
   },
   "file_extension": ".py",
   "mimetype": "text/x-python",
   "name": "python",
   "nbconvert_exporter": "python",
   "pygments_lexer": "ipython3",
   "version": "3.12.4"
  }
 },
 "nbformat": 4,
 "nbformat_minor": 2
}
